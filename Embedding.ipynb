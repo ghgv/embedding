{
 "cells": [
  {
   "cell_type": "code",
   "execution_count": null,
   "id": "2a191446",
   "metadata": {},
   "outputs": [],
   "source": [
    "################ Simple example of word embeedings  ##########################\n",
    "# It takes 4 words and gets thes embeddings (w1, w2) as it 2d representation #\n",
    "##############################################################################\n",
    "import torch\n",
    "import math\n",
    "import numpy as np\n",
    "from matplotlib import pyplot as plt\n",
    "import torch.nn.functional as F\n",
    "import re"
   ]
  },
  {
   "cell_type": "code",
   "execution_count": null,
   "id": "52b21825",
   "metadata": {},
   "outputs": [],
   "source": [
    "torch.manual_seed(298630698)"
   ]
  },
  {
   "cell_type": "code",
   "execution_count": null,
   "id": "ca858935",
   "metadata": {},
   "outputs": [],
   "source": [
    "words =[\"Troll\",\"is\", \"great\",\"Gymkata\"]"
   ]
  },
  {
   "cell_type": "code",
   "execution_count": null,
   "id": "3172045c",
   "metadata": {
    "scrolled": true
   },
   "outputs": [],
   "source": [
    "\n",
    "L = [\"Troll is great\\n\", \"Gymkata is great\\n\", \"Sam is fat and heavy\\n\", \"Sam is great\\n\",\"Dali is small\\n\",\"Gymkata is fat\\n\",\n",
    "     \"Dali is great\\n\", \"Dali is a bit small\\n\",\"Sam and Dali are heavy\\n\"]\n",
    "dictionary=set()\n",
    "# writing to file\n",
    "file1 = open('myfile.txt', 'w')\n",
    "file1.writelines(L)\n",
    "file1.close()\n",
    " \n",
    "# Using readlines()\n",
    "file1 = open('myfile.txt', 'r')\n",
    "file1 = open('texto3.txt', 'r')\n",
    "Lines = file1.readlines()\n",
    " \n",
    "count = 0\n",
    "# Strips the newline character\n",
    "for line in Lines:\n",
    "    count += 1\n",
    "    print(\"Line {}: {}\".format(count, line.strip()))\n",
    "    # using split() method with a regular expression\n",
    "    # to extract words from string\n",
    "    res = re.split(r'\\W+', line.strip())\n",
    "    words = []\n",
    "    for word in res:\n",
    "        if word:\n",
    "            words.append(word)\n",
    "    for word in words:\n",
    "        #print(word)\n",
    "        dictionary.add(word)\n",
    "print(dictionary)\n",
    "classes= len(dictionary)\n"
   ]
  },
  {
   "cell_type": "code",
   "execution_count": null,
   "id": "7ebe74dc",
   "metadata": {},
   "outputs": [],
   "source": [
    "chars = (dictionary)\n",
    "stoi = {s:i+1 for i,s in enumerate(chars)}\n",
    "stoi['.'] = 0\n",
    "itos = {i:s for s,i in stoi.items()}"
   ]
  },
  {
   "cell_type": "code",
   "execution_count": null,
   "id": "80f6222e",
   "metadata": {},
   "outputs": [],
   "source": [
    "xs=[]\n",
    "ys=[]"
   ]
  },
  {
   "cell_type": "code",
   "execution_count": null,
   "id": "ba6c9555",
   "metadata": {},
   "outputs": [],
   "source": [
    "g=[]\n",
    "i=0\n",
    "for line in Lines:\n",
    "    print(\"frase \",end=\"\")\n",
    "    print(i,\": \",line)\n",
    "    \n",
    "    for w in line.split():\n",
    "     #   print(\"2 \",w)\n",
    "        g.append(w)\n",
    "    for j,l in zip(g,g[1:]):\n",
    "        print(j,l)\n",
    "        ix1 = stoi[j]\n",
    "        ix2 = stoi[l]\n",
    "        #print(ix1, ix2)\n",
    "        xs.append(ix1)\n",
    "        ys.append(ix2)\n",
    "    i=i+1\n",
    "    g=[]"
   ]
  },
  {
   "cell_type": "code",
   "execution_count": null,
   "id": "45ad17a5",
   "metadata": {},
   "outputs": [],
   "source": [
    "#xs, ys = [], []\n",
    "#for line in Lines:\n",
    "#    for j,l in zip(line,line[1:]):\n",
    "#        print(j,l)\n",
    "#        ix1 = stoi[j]\n",
    "#        ix2 = stoi[l]\n",
    "#        print(ix1, ix2)\n",
    "#        xs.append(ix1)\n",
    "#        ys.append(ix2)\n",
    "    \n",
    "xs = torch.tensor(xs)\n",
    "ys = torch.tensor(ys) "
   ]
  },
  {
   "cell_type": "code",
   "execution_count": null,
   "id": "4be22308",
   "metadata": {},
   "outputs": [],
   "source": [
    "xs=xs-1"
   ]
  },
  {
   "cell_type": "code",
   "execution_count": null,
   "id": "9f1664b3",
   "metadata": {},
   "outputs": [],
   "source": [
    "ys=ys-1"
   ]
  },
  {
   "cell_type": "code",
   "execution_count": null,
   "id": "5fe93cb0",
   "metadata": {},
   "outputs": [],
   "source": [
    "xenc = F.one_hot(xs, num_classes=classes).float()"
   ]
  },
  {
   "cell_type": "code",
   "execution_count": null,
   "id": "13327f7c",
   "metadata": {},
   "outputs": [],
   "source": [
    "yenc = F.one_hot(ys, num_classes=classes).float()\n",
    "yenc"
   ]
  },
  {
   "cell_type": "code",
   "execution_count": null,
   "id": "d1de4354",
   "metadata": {},
   "outputs": [],
   "source": [
    "x =  xenc #torch.tensor(((1,0,0,0,0),(0,1,0,0,0),(0,0,1,0,0),(0,0,0,1,0),(0,0,0,0,1)),requires_grad=False,dtype=torch.float32)\n",
    "w1 = torch.randn((classes,2),requires_grad=True,dtype=torch.float32)\n",
    "w2 = torch.randn((2,classes),requires_grad=True,dtype=torch.float32)\n",
    "y =  yenc #torch.tensor(((0,1,0,0,0),(0,0,1,0,0),(0,0,0,1,0),(0,1,0,0,0),(0,1,0,0,0)) ,requires_grad=False,dtype=torch.float32)"
   ]
  },
  {
   "cell_type": "code",
   "execution_count": null,
   "id": "677c72d6",
   "metadata": {},
   "outputs": [],
   "source": [
    "#x = torch.tensor(((1,0,0,0),(0,1,0,0),(0,0,1,0),(0,0,0,1)),requires_grad=False,dtype=torch.float32)\n",
    "#w1 = torch.randn((4,2),requires_grad=True,dtype=torch.float32)\n",
    "#w2 = torch.randn((2,4),requires_grad=True,dtype=torch.float32)\n",
    "#y = torch.tensor(((0,1,0,0),(0,0,1,0),(0,0,0,1),(0,1,0,0)) ,requires_grad=False,dtype=torch.float32)"
   ]
  },
  {
   "cell_type": "code",
   "execution_count": null,
   "id": "25623b74",
   "metadata": {},
   "outputs": [],
   "source": [
    "x.to(\"cuda:0\")\n",
    "w1.to(\"cuda:0\")\n",
    "w2.to(\"cuda:0\")\n",
    "y.to(\"cuda:0\")"
   ]
  },
  {
   "cell_type": "code",
   "execution_count": null,
   "id": "fb211562",
   "metadata": {},
   "outputs": [],
   "source": [
    "w1"
   ]
  },
  {
   "cell_type": "code",
   "execution_count": null,
   "id": "18531c57",
   "metadata": {},
   "outputs": [],
   "source": [
    "w1.retain_grad()\n",
    "w2.retain_grad()\n"
   ]
  },
  {
   "cell_type": "code",
   "execution_count": null,
   "id": "e65b3d60",
   "metadata": {},
   "outputs": [],
   "source": [
    "\n",
    "for i in range (3000):\n",
    "    z1= x@ w1\n",
    "    z2= z1 @ w2\n",
    "    f= torch.softmax(z2,dim=1)\n",
    "    loss = torch.nn.CrossEntropyLoss()\n",
    "    w1.grad=None\n",
    "    w2.grad =None\n",
    "    r=0.1\n",
    "    output = loss(f, y)\n",
    "    output.backward()\n",
    "    w1.data+=-r*w1.grad\n",
    "    w2.data+=-r*w2.grad\n",
    "print(output)"
   ]
  },
  {
   "cell_type": "code",
   "execution_count": null,
   "id": "d37f5db7",
   "metadata": {},
   "outputs": [],
   "source": [
    "z1= x@ w1\n",
    "z2= z1 @ w2\n",
    "f= torch.softmax(z2,dim=1)\n",
    "print(f)"
   ]
  },
  {
   "cell_type": "code",
   "execution_count": null,
   "id": "2dc038d0",
   "metadata": {},
   "outputs": [],
   "source": [
    "p=list(x[0])\n",
    "max_value = max(p)\n",
    "max_index = p.index(max_value)\n",
    "itos"
   ]
  },
  {
   "cell_type": "code",
   "execution_count": null,
   "id": "a2961d63",
   "metadata": {},
   "outputs": [],
   "source": [
    "for h in range(15):\n",
    "    s=list(f[h])\n",
    "    max_value = max(s)\n",
    "    max_index = s.index(max_value)\n",
    "    print(itos[max_index+1])\n",
    "    \n"
   ]
  },
  {
   "cell_type": "code",
   "execution_count": null,
   "id": "630e032d",
   "metadata": {},
   "outputs": [],
   "source": [
    "x\n"
   ]
  },
  {
   "cell_type": "code",
   "execution_count": null,
   "id": "f275e871",
   "metadata": {},
   "outputs": [],
   "source": [
    "w1"
   ]
  },
  {
   "cell_type": "code",
   "execution_count": null,
   "id": "afb3cd26",
   "metadata": {},
   "outputs": [],
   "source": [
    "d = w1.tolist()\n",
    "x1,y1 =list(zip(*d))\n",
    "plt.scatter(x1,y1)\n",
    "for i, txt in enumerate(dictionary):\n",
    "    plt.annotate(txt, (x1[i], y1[i]))\n",
    "plt.show()"
   ]
  },
  {
   "cell_type": "code",
   "execution_count": null,
   "id": "dce62362",
   "metadata": {},
   "outputs": [],
   "source": [
    "d"
   ]
  },
  {
   "cell_type": "code",
   "execution_count": null,
   "id": "bb1ffcad",
   "metadata": {},
   "outputs": [],
   "source": [
    "fig = plt.figure()\n",
    "plt.plot(w1.detach().numpy(), color='blue')\n",
    "plt.legend(['Train Loss', 'Test Loss'], loc='upper right')\n",
    "plt.xlabel('number of training examples seen')\n",
    "fig"
   ]
  },
  {
   "cell_type": "code",
   "execution_count": null,
   "id": "4cea610e",
   "metadata": {},
   "outputs": [],
   "source": [
    "import torch\n",
    "import math\n",
    "import numpy as np\n",
    "from matplotlib import pyplot as plt\n",
    "import torch.nn.functional as F\n",
    "import re"
   ]
  },
  {
   "cell_type": "code",
   "execution_count": null,
   "id": "5fadb6cd",
   "metadata": {},
   "outputs": [],
   "source": [
    "words = open('names.txt', 'r').read().splitlines()"
   ]
  },
  {
   "cell_type": "code",
   "execution_count": null,
   "id": "1975ddcc",
   "metadata": {},
   "outputs": [],
   "source": [
    "print(words)"
   ]
  },
  {
   "cell_type": "code",
   "execution_count": null,
   "id": "65041fbe",
   "metadata": {},
   "outputs": [],
   "source": [
    "\n",
    "chars = sorted(list(set(''.join(words))))\n",
    "stoi = {s:i+1 for i,s in enumerate(chars)}\n",
    "stoi['.']=0\n",
    "itos = {i:s for s,i in stoi.items()}\n",
    "print(itos)"
   ]
  },
  {
   "cell_type": "code",
   "execution_count": null,
   "id": "1bf5c075",
   "metadata": {},
   "outputs": [],
   "source": [
    "block_size=3\n",
    "context=[0]*block_size"
   ]
  },
  {
   "cell_type": "code",
   "execution_count": null,
   "id": "0ca4c196",
   "metadata": {},
   "outputs": [],
   "source": [
    "context"
   ]
  },
  {
   "cell_type": "code",
   "execution_count": null,
   "id": "53fcab1e",
   "metadata": {},
   "outputs": [],
   "source": [
    "X,Y = [],[]\n",
    "for w in words:\n",
    "    #print(\"word: \",w)\n",
    "    for ch in w+'.':\n",
    "        #print(\"char: \",ch)\n",
    "        ix= stoi[ch]\n",
    "        X.append(context)\n",
    "        Y.append(ix)\n",
    "        #print(''.join(itos[i] for i in context) ,\"---->\", itos[ix])\n",
    "        context = context[1:] +[ix]\n",
    "\n",
    "X=torch.tensor(X)\n",
    "Y=torch.tensor(Y)\n",
    "\n",
    "                                                            \n",
    "    \n"
   ]
  },
  {
   "cell_type": "code",
   "execution_count": null,
   "id": "587105cb",
   "metadata": {},
   "outputs": [],
   "source": [
    "X\n"
   ]
  },
  {
   "cell_type": "code",
   "execution_count": null,
   "id": "da630ce8",
   "metadata": {},
   "outputs": [],
   "source": [
    "X.shape"
   ]
  },
  {
   "cell_type": "code",
   "execution_count": null,
   "id": "3f4cd62c",
   "metadata": {},
   "outputs": [],
   "source": []
  },
  {
   "cell_type": "code",
   "execution_count": null,
   "id": "2dd01250",
   "metadata": {},
   "outputs": [],
   "source": [
    "g= torch.Generator().manual_seed(2147483647)\n",
    "C= torch.rand((27,2),generator=g)\n",
    "W1= torch.rand(6,100,generator=g)\n",
    "b1 = torch.rand(100,generator=g)\n",
    "W2 = torch.randn((100,27),generator=g)\n",
    "b2 = torch.randn(27,generator=g)\n",
    "parameters =[C,W1,b1,W2,b2]"
   ]
  },
  {
   "cell_type": "code",
   "execution_count": null,
   "id": "84149034",
   "metadata": {},
   "outputs": [],
   "source": [
    "X.shape"
   ]
  },
  {
   "cell_type": "code",
   "execution_count": null,
   "id": "235e683c",
   "metadata": {},
   "outputs": [],
   "source": [
    "\n",
    "C.to(\"cuda:0\")\n",
    "W1.to(\"cuda:0\")\n",
    "b1.to(\"cuda:0\")\n",
    "W2.to(\"cuda:0\")\n",
    "b2.to(\"cuda:0\")\n"
   ]
  },
  {
   "cell_type": "code",
   "execution_count": null,
   "id": "614024f0",
   "metadata": {},
   "outputs": [],
   "source": [
    "for p in parameters:\n",
    "    p.requires_grad= True"
   ]
  },
  {
   "cell_type": "code",
   "execution_count": null,
   "id": "084d6ece",
   "metadata": {},
   "outputs": [],
   "source": [
    "sum(p.nelement() for p in parameters)"
   ]
  },
  {
   "cell_type": "code",
   "execution_count": null,
   "id": "84999e3f",
   "metadata": {},
   "outputs": [],
   "source": [
    "for _ in range(1000):\n",
    "    emb= C[X]\n",
    "    h=torch.tanh(emb.view(-1,6) @ W1 + b1)\n",
    "    logits = h @ W2+ b2\n",
    "    loss= F.cross_entropy(logits,Y)\n",
    "    print(loss.item())\n",
    "    for p in parameters:\n",
    "            p.grad= None\n",
    "    loss.backward()\n",
    "    for p in parameters:\n",
    "        p.data = p.data -0.1* p.grad\n",
    "\n",
    "print(loss.item())"
   ]
  },
  {
   "cell_type": "code",
   "execution_count": null,
   "id": "9e139f13",
   "metadata": {},
   "outputs": [],
   "source": [
    "plt.figure(figsize=(8,8))\n",
    "plt.scatter(C[:,0].data,C[:,1].data,s=200)\n",
    "for i in range(C.shape[0]):\n",
    "    plt.text(C[i,0].item(),C[i,1].item(),itos[i],color='white',ha='center',va='center')\n",
    "plt.grid('minor')"
   ]
  },
  {
   "cell_type": "code",
   "execution_count": null,
   "id": "96a05f43",
   "metadata": {},
   "outputs": [],
   "source": [
    "for i in range(20):\n",
    "    out=[]\n",
    "    context = [0]*block_size\n",
    "    while True:\n",
    "        emb=C[torch.tensor([context])]\n",
    "        h= torch.tanh(emb.view(1,-1) @ W1+b1)\n",
    "        logits = h@W2 +b2\n",
    "        probs = F.softmax(logits,dim=1)\n",
    "        ix= torch.multinomial(probs, num_samples=1, generator=g).item()\n",
    "        context = context[1:]+[ix]\n",
    "        out.append(ix)\n",
    "        if ix==0:\n",
    "            break\n",
    "    print(''.join(itos[i] for i in out))"
   ]
  },
  {
   "cell_type": "code",
   "execution_count": null,
   "id": "ebb6cbdb",
   "metadata": {},
   "outputs": [],
   "source": [
    "################### GPT #############"
   ]
  },
  {
   "cell_type": "code",
   "execution_count": null,
   "id": "8b497243",
   "metadata": {},
   "outputs": [],
   "source": [
    "import torch"
   ]
  },
  {
   "cell_type": "code",
   "execution_count": null,
   "id": "b1469606",
   "metadata": {
    "scrolled": true
   },
   "outputs": [],
   "source": [
    "!wget https://raw.githubusercontent.com/karpathy/char-rnn/master/data/tinyshakespeare/input.txt"
   ]
  },
  {
   "cell_type": "code",
   "execution_count": null,
   "id": "cfc73705",
   "metadata": {},
   "outputs": [],
   "source": [
    "text = open(\"input.txt\").read()\n",
    "print(text)"
   ]
  },
  {
   "cell_type": "code",
   "execution_count": null,
   "id": "baedbd37",
   "metadata": {},
   "outputs": [],
   "source": [
    "chars = list(sorted(set(text)))\n",
    "chars"
   ]
  },
  {
   "cell_type": "code",
   "execution_count": null,
   "id": "f99ed743",
   "metadata": {},
   "outputs": [],
   "source": [
    "for i in enumerate(chars):\n",
    "    print(i)"
   ]
  },
  {
   "cell_type": "code",
   "execution_count": null,
   "id": "215f6e2b",
   "metadata": {},
   "outputs": [],
   "source": [
    "stoi = {ch:i for i, ch in enumerate(chars)}\n",
    "itos = {i:ch for i, ch in enumerate(chars)}\n",
    "encode = lambda word:    [stoi[ch] for ch in word]\n",
    "decode = lambda entero:  ''.join([itos[i] for i in entero])"
   ]
  },
  {
   "cell_type": "code",
   "execution_count": null,
   "id": "6fa4871e",
   "metadata": {},
   "outputs": [],
   "source": [
    "print(encode(\"perro\"))"
   ]
  },
  {
   "cell_type": "code",
   "execution_count": null,
   "id": "1a11a01d",
   "metadata": {},
   "outputs": [],
   "source": [
    "print(decode(encode(\"perro\")))"
   ]
  },
  {
   "cell_type": "code",
   "execution_count": null,
   "id": "c95b4452",
   "metadata": {},
   "outputs": [],
   "source": [
    "data= torch.tensor(encode(text),dtype=torch.long)"
   ]
  },
  {
   "cell_type": "code",
   "execution_count": null,
   "id": "9fb89758",
   "metadata": {},
   "outputs": [],
   "source": [
    "print(data[:100])"
   ]
  },
  {
   "cell_type": "code",
   "execution_count": null,
   "id": "db722067",
   "metadata": {},
   "outputs": [],
   "source": [
    "n= int(0.9*len(data))\n",
    "train_data= data[:n]\n",
    "val_data= data[n:]"
   ]
  },
  {
   "cell_type": "code",
   "execution_count": null,
   "id": "e62acef3",
   "metadata": {},
   "outputs": [],
   "source": [
    "block_size=8\n",
    "train_data[:block_size+1]"
   ]
  },
  {
   "cell_type": "code",
   "execution_count": null,
   "id": "22f44f1e",
   "metadata": {},
   "outputs": [],
   "source": [
    "x=train_data[:block_size]\n",
    "y=train_data[1:block_size+1]\n",
    "for t in range(block_size):\n",
    "    context= x[:t+1]\n",
    "    target = y[t]\n",
    "    print(f\"when the input is {context} the target is {target}\")"
   ]
  },
  {
   "cell_type": "code",
   "execution_count": null,
   "id": "d9042361",
   "metadata": {},
   "outputs": [],
   "source": [
    "torch.manual_seed(1337)\n",
    "batch_size = 4\n",
    "block_size = 8\n",
    "\n",
    "def get_batch(split):\n",
    "    data= train_data if split==\"train\" else val_data\n",
    "    ix= torch.randint(len(data) - block_size, (batch_size,))\n",
    "    x = torch.stack([data[i:i+block_size] for i in ix])\n",
    "    y = torch.stack([data[i+1:i+block_size+1] for i in ix])\n",
    "    return x,y\n",
    "\n",
    "xb,yb = get_batch('train')\n",
    "print('inputs:')\n",
    "print(xb.shape)\n",
    "print(xb)\n",
    "\n",
    "print('targets:')\n",
    "print(yb.shape)\n",
    "print(yb)\n",
    "\n",
    "                \n",
    "for b in range(batch_size):\n",
    "    for t in range(block_size):\n",
    "        context = xb[b,:t+1]\n",
    "        target = yb[b,t]\n",
    "        print(f\"when the input is {context} the target is {target}\")\n",
    "        "
   ]
  },
  {
   "cell_type": "code",
   "execution_count": 1,
   "id": "ada00b7b",
   "metadata": {},
   "outputs": [],
   "source": [
    "################ Embedding ############\n",
    "import torch \n",
    "from torch.nn import Embedding"
   ]
  },
  {
   "cell_type": "code",
   "execution_count": 2,
   "id": "4069933f",
   "metadata": {},
   "outputs": [],
   "source": [
    "n_embeddings,dim = 10,4"
   ]
  },
  {
   "cell_type": "code",
   "execution_count": 3,
   "id": "ca296047",
   "metadata": {},
   "outputs": [],
   "source": [
    "emb1 = Embedding(n_embeddings, dim)"
   ]
  },
  {
   "cell_type": "code",
   "execution_count": 4,
   "id": "7e20209f",
   "metadata": {},
   "outputs": [
    {
     "data": {
      "text/plain": [
       "Embedding(10, 4)"
      ]
     },
     "execution_count": 4,
     "metadata": {},
     "output_type": "execute_result"
    }
   ],
   "source": [
    "emb1"
   ]
  },
  {
   "cell_type": "code",
   "execution_count": null,
   "id": "2ba1d39e",
   "metadata": {},
   "outputs": [],
   "source": [
    "emb1.weight"
   ]
  },
  {
   "cell_type": "code",
   "execution_count": null,
   "id": "1c9473d7",
   "metadata": {},
   "outputs": [],
   "source": [
    "imp = torch.LongTensor([[1,3],[5,5]])"
   ]
  },
  {
   "cell_type": "code",
   "execution_count": null,
   "id": "b79054da",
   "metadata": {},
   "outputs": [],
   "source": [
    "emb1(imp)"
   ]
  },
  {
   "cell_type": "code",
   "execution_count": null,
   "id": "973dba08",
   "metadata": {},
   "outputs": [],
   "source": [
    "import torch\n",
    "import torch.nn as nn\n",
    "import torch.nn.functional as F\n",
    "import torch.optim as optim\n",
    "\n",
    "torch.manual_seed(1)"
   ]
  },
  {
   "cell_type": "code",
   "execution_count": null,
   "id": "c0f4d7c9",
   "metadata": {},
   "outputs": [],
   "source": [
    "word_to_ix = {\"hello\": 0, \"world\": 1}\n",
    "embeds = nn.Embedding(2, 5)  # 2 words in vocab, 5 dimensional embeddings\n",
    "lookup_tensor = torch.tensor([word_to_ix[\"hello\"]], dtype=torch.long)\n",
    "hello_embed = embeds(lookup_tensor)\n",
    "print(hello_embed)"
   ]
  },
  {
   "cell_type": "code",
   "execution_count": null,
   "id": "312c1822",
   "metadata": {},
   "outputs": [],
   "source": [
    "embeds.weight"
   ]
  },
  {
   "cell_type": "code",
   "execution_count": null,
   "id": "4479c1c1",
   "metadata": {},
   "outputs": [],
   "source": [
    "class hola():\n",
    "    def __init__(self,v):\n",
    "        self.vocal=v\n",
    "    \n",
    "    def forward(self,idx):\n",
    "        return \"aa\"\n",
    "        \n",
    "    def forward1(self,idx):\n",
    "        return \"holaa\"\n",
    "    \n",
    "    def generate(self,idx):\n",
    "        f=self(idx)\n",
    "        return \"3\"+f\n",
    "    \n",
    "\n",
    "d=hola(\"a\")"
   ]
  },
  {
   "cell_type": "code",
   "execution_count": null,
   "id": "ac4fa7e8",
   "metadata": {},
   "outputs": [],
   "source": [
    "d.generate(2)"
   ]
  },
  {
   "cell_type": "code",
   "execution_count": null,
   "id": "71e446b5",
   "metadata": {},
   "outputs": [],
   "source": [
    "class myLayer(nn.Module):\n",
    "  def __init__(self):\n",
    "    super().__init__()\n",
    "    self.layer1 = nn.Linear(10,1)\n",
    "  def forward(self, input_tensor):\n",
    "    return self.layer1(input_tensor)\n",
    "model = myLayer()\n",
    "input_tensor = torch.rand((2,10))\n",
    "#//treat as callable, which is same as model.forward(tensor)\n",
    "model(input_tensor)"
   ]
  },
  {
   "cell_type": "code",
   "execution_count": 5,
   "id": "c06f57c8",
   "metadata": {},
   "outputs": [],
   "source": [
    "############# Conditional probaility########"
   ]
  },
  {
   "cell_type": "code",
   "execution_count": 6,
   "id": "98d244d9",
   "metadata": {},
   "outputs": [],
   "source": [
    "import re"
   ]
  },
  {
   "cell_type": "code",
   "execution_count": 7,
   "id": "a2f80a41",
   "metadata": {},
   "outputs": [],
   "source": [
    "conjunto =set()\n",
    "file1 = open('texto3.txt', 'r')\n",
    "Lines = file1.readlines()\n",
    "Lines2=[]\n",
    "words=[]\n",
    "count = 0\n"
   ]
  },
  {
   "cell_type": "code",
   "execution_count": null,
   "id": "bd955980",
   "metadata": {},
   "outputs": [],
   "source": []
  },
  {
   "cell_type": "code",
   "execution_count": 8,
   "id": "ce79223b",
   "metadata": {},
   "outputs": [
    {
     "data": {
      "text/plain": [
       "['<s> Roger is young </s>',\n",
       " '<s> Dali is a dog </s>',\n",
       " '<s> Dakota is old </s>',\n",
       " '<s> Roger is funny </s>',\n",
       " '<s> Marta is small </s>',\n",
       " '<s> Magce is fat </s>',\n",
       " '<s> Julia is white </s>',\n",
       " '<s> Julia is working </s>',\n",
       " '<s> Roger sleeps late </s>',\n",
       " '<s> Roger is happy </s>',\n",
       " '<s> NEC is a company </s>',\n",
       " '<s> Huawei is a company </s>',\n",
       " '<s> Nokia is a company </s>',\n",
       " '<s> Dakota is a dog </s>',\n",
       " '<s> Marta is a woman </s>',\n",
       " '<s> Magce is a woman </s>',\n",
       " '<s> Marta is black </s>']"
      ]
     },
     "execution_count": 8,
     "metadata": {},
     "output_type": "execute_result"
    }
   ],
   "source": [
    "for line in Lines:\n",
    "    line= \"<s> \" + line + \" </s>\"\n",
    "    line  = re.sub(r'\\n', '', line)\n",
    "    Lines2.append(line)\n",
    "Lines2"
   ]
  },
  {
   "cell_type": "code",
   "execution_count": 11,
   "id": "87b81712",
   "metadata": {},
   "outputs": [
    {
     "name": "stdout",
     "output_type": "stream",
     "text": [
      "<s>\n",
      "Roger\n",
      "is\n",
      "young\n",
      "</s>\n",
      "<s>\n",
      "Dali\n",
      "is\n",
      "a\n",
      "dog\n",
      "</s>\n",
      "<s>\n",
      "Dakota\n",
      "is\n",
      "old\n",
      "</s>\n",
      "<s>\n",
      "Roger\n",
      "is\n",
      "funny\n",
      "</s>\n",
      "<s>\n",
      "Marta\n",
      "is\n",
      "small\n",
      "</s>\n",
      "<s>\n",
      "Magce\n",
      "is\n",
      "fat\n",
      "</s>\n",
      "<s>\n",
      "Julia\n",
      "is\n",
      "white\n",
      "</s>\n",
      "<s>\n",
      "Julia\n",
      "is\n",
      "working\n",
      "</s>\n",
      "<s>\n",
      "Roger\n",
      "sleeps\n",
      "late\n",
      "</s>\n",
      "<s>\n",
      "Roger\n",
      "is\n",
      "happy\n",
      "</s>\n",
      "<s>\n",
      "NEC\n",
      "is\n",
      "a\n",
      "company\n",
      "</s>\n",
      "<s>\n",
      "Huawei\n",
      "is\n",
      "a\n",
      "company\n",
      "</s>\n",
      "<s>\n",
      "Nokia\n",
      "is\n",
      "a\n",
      "company\n",
      "</s>\n",
      "<s>\n",
      "Dakota\n",
      "is\n",
      "a\n",
      "dog\n",
      "</s>\n",
      "<s>\n",
      "Marta\n",
      "is\n",
      "a\n",
      "woman\n",
      "</s>\n",
      "<s>\n",
      "Magce\n",
      "is\n",
      "a\n",
      "woman\n",
      "</s>\n",
      "<s>\n",
      "Marta\n",
      "is\n",
      "black\n",
      "</s>\n",
      "->  {'working', 'happy', 'Julia', 'Roger', 'dog', 'is', 'Huawei', 'late', 'Dakota', '</s>', 'Magce', 'white', 'Dali', '<s>', 'Marta', 'NEC', 'young', 'funny', 'black', 'woman', 'Nokia', 'company', 'old', 'small', 'a', 'fat', 'sleeps'}\n"
     ]
    }
   ],
   "source": [
    "for line in Lines2:\n",
    "    count += 1\n",
    "    \n",
    "    for word in line.split():\n",
    "        words.append(word)\n",
    "        conjunto.add(word)\n",
    "        print(word)\n",
    "print(\"-> \",conjunto)\n",
    "classes= len(conjunto)"
   ]
  },
  {
   "cell_type": "code",
   "execution_count": 12,
   "id": "c2af922b",
   "metadata": {},
   "outputs": [
    {
     "data": {
      "text/plain": [
       "['<s>',\n",
       " 'Roger',\n",
       " 'is',\n",
       " 'young',\n",
       " '</s>',\n",
       " '<s>',\n",
       " 'Dali',\n",
       " 'is',\n",
       " 'a',\n",
       " 'dog',\n",
       " '</s>',\n",
       " '<s>',\n",
       " 'Dakota',\n",
       " 'is',\n",
       " 'old',\n",
       " '</s>',\n",
       " '<s>',\n",
       " 'Roger',\n",
       " 'is',\n",
       " 'funny',\n",
       " '</s>',\n",
       " '<s>',\n",
       " 'Marta',\n",
       " 'is',\n",
       " 'small',\n",
       " '</s>',\n",
       " '<s>',\n",
       " 'Magce',\n",
       " 'is',\n",
       " 'fat',\n",
       " '</s>',\n",
       " '<s>',\n",
       " 'Julia',\n",
       " 'is',\n",
       " 'white',\n",
       " '</s>',\n",
       " '<s>',\n",
       " 'Julia',\n",
       " 'is',\n",
       " 'working',\n",
       " '</s>',\n",
       " '<s>',\n",
       " 'Roger',\n",
       " 'sleeps',\n",
       " 'late',\n",
       " '</s>',\n",
       " '<s>',\n",
       " 'Roger',\n",
       " 'is',\n",
       " 'happy',\n",
       " '</s>',\n",
       " '<s>',\n",
       " 'NEC',\n",
       " 'is',\n",
       " 'a',\n",
       " 'company',\n",
       " '</s>',\n",
       " '<s>',\n",
       " 'Huawei',\n",
       " 'is',\n",
       " 'a',\n",
       " 'company',\n",
       " '</s>',\n",
       " '<s>',\n",
       " 'Nokia',\n",
       " 'is',\n",
       " 'a',\n",
       " 'company',\n",
       " '</s>',\n",
       " '<s>',\n",
       " 'Dakota',\n",
       " 'is',\n",
       " 'a',\n",
       " 'dog',\n",
       " '</s>',\n",
       " '<s>',\n",
       " 'Marta',\n",
       " 'is',\n",
       " 'a',\n",
       " 'woman',\n",
       " '</s>',\n",
       " '<s>',\n",
       " 'Magce',\n",
       " 'is',\n",
       " 'a',\n",
       " 'woman',\n",
       " '</s>',\n",
       " '<s>',\n",
       " 'Marta',\n",
       " 'is',\n",
       " 'black',\n",
       " '</s>']"
      ]
     },
     "execution_count": 12,
     "metadata": {},
     "output_type": "execute_result"
    }
   ],
   "source": [
    "words"
   ]
  },
  {
   "cell_type": "code",
   "execution_count": 14,
   "id": "5173e25f",
   "metadata": {},
   "outputs": [
    {
     "name": "stdout",
     "output_type": "stream",
     "text": [
      "<s> :  17\n",
      "Roger :  4\n",
      "is :  16\n",
      "young :  1\n",
      "</s> :  17\n",
      "Dali :  1\n",
      "a :  7\n",
      "dog :  2\n",
      "Dakota :  2\n",
      "old :  1\n",
      "funny :  1\n",
      "Marta :  3\n",
      "small :  1\n",
      "Magce :  2\n",
      "fat :  1\n",
      "Julia :  2\n",
      "white :  1\n",
      "working :  1\n",
      "sleeps :  1\n",
      "late :  1\n",
      "happy :  1\n",
      "NEC :  1\n",
      "company :  3\n",
      "Huawei :  1\n",
      "Nokia :  1\n",
      "woman :  2\n",
      "black :  1\n"
     ]
    }
   ],
   "source": [
    "def CountFrequency(my_list):\n",
    "\n",
    "    # Creating an empty dictionary\n",
    "    freq = {}\n",
    "    for item in my_list:\n",
    "        if (item in freq):\n",
    "            freq[item] += 1\n",
    "        else:\n",
    "            freq[item] = 1\n",
    "\n",
    "    for key, value in freq.items():\n",
    "        print(\"% s : % d\" % (key, value))\n",
    "\n",
    "CountFrequency(words)\n"
   ]
  },
  {
   "cell_type": "code",
   "execution_count": 25,
   "id": "c70e3352",
   "metadata": {},
   "outputs": [
    {
     "name": "stdout",
     "output_type": "stream",
     "text": [
      "<s> Roger\n",
      "Roger is\n",
      "is young\n",
      "young </s>\n",
      "</s> <s>\n",
      "<s> Dali\n",
      "Dali is\n",
      "is a\n",
      "a dog\n",
      "dog </s>\n",
      "</s> <s>\n",
      "<s> Dakota\n",
      "Dakota is\n",
      "is old\n",
      "old </s>\n",
      "</s> <s>\n",
      "<s> Roger\n",
      "Roger is\n",
      "is funny\n",
      "funny </s>\n",
      "</s> <s>\n",
      "<s> Marta\n",
      "Marta is\n",
      "is small\n",
      "small </s>\n",
      "</s> <s>\n",
      "<s> Magce\n",
      "Magce is\n",
      "is fat\n",
      "fat </s>\n",
      "</s> <s>\n",
      "<s> Julia\n",
      "Julia is\n",
      "is white\n",
      "white </s>\n",
      "</s> <s>\n",
      "<s> Julia\n",
      "Julia is\n",
      "is working\n",
      "working </s>\n",
      "</s> <s>\n",
      "<s> Roger\n",
      "Roger sleeps\n",
      "sleeps late\n",
      "late </s>\n",
      "</s> <s>\n",
      "<s> Roger\n",
      "Roger is\n",
      "is happy\n",
      "happy </s>\n",
      "</s> <s>\n",
      "<s> NEC\n",
      "NEC is\n",
      "is a\n",
      "a company\n",
      "company </s>\n",
      "</s> <s>\n",
      "<s> Huawei\n",
      "Huawei is\n",
      "is a\n",
      "a company\n",
      "company </s>\n",
      "</s> <s>\n",
      "<s> Nokia\n",
      "Nokia is\n",
      "is a\n",
      "a company\n",
      "company </s>\n",
      "</s> <s>\n",
      "<s> Dakota\n",
      "Dakota is\n",
      "is a\n",
      "a dog\n",
      "dog </s>\n",
      "</s> <s>\n",
      "<s> Marta\n",
      "Marta is\n",
      "is a\n",
      "a woman\n",
      "woman </s>\n",
      "</s> <s>\n",
      "<s> Magce\n",
      "Magce is\n",
      "is a\n",
      "a woman\n",
      "woman </s>\n",
      "</s> <s>\n",
      "<s> Marta\n",
      "Marta is\n",
      "is black\n",
      "black </s>\n"
     ]
    }
   ],
   "source": [
    "pair=[]\n",
    "for i,j in zip(words,words[1:]):\n",
    "    print(i,j)\n",
    "    pair.append(i+j)"
   ]
  },
  {
   "cell_type": "code",
   "execution_count": 28,
   "id": "49b6211b",
   "metadata": {},
   "outputs": [],
   "source": [
    "e={}\n",
    "for i in pair:\n",
    "    if i in e:\n",
    "        e[i]+=1\n",
    "    else:\n",
    "        e[i]=1"
   ]
  },
  {
   "cell_type": "code",
   "execution_count": 29,
   "id": "60bd3c64",
   "metadata": {},
   "outputs": [
    {
     "data": {
      "text/plain": [
       "{'<s>Roger': 4,\n",
       " 'Rogeris': 3,\n",
       " 'isyoung': 1,\n",
       " 'young</s>': 1,\n",
       " '</s><s>': 16,\n",
       " '<s>Dali': 1,\n",
       " 'Daliis': 1,\n",
       " 'isa': 7,\n",
       " 'adog': 2,\n",
       " 'dog</s>': 2,\n",
       " '<s>Dakota': 2,\n",
       " 'Dakotais': 2,\n",
       " 'isold': 1,\n",
       " 'old</s>': 1,\n",
       " 'isfunny': 1,\n",
       " 'funny</s>': 1,\n",
       " '<s>Marta': 3,\n",
       " 'Martais': 3,\n",
       " 'issmall': 1,\n",
       " 'small</s>': 1,\n",
       " '<s>Magce': 2,\n",
       " 'Magceis': 2,\n",
       " 'isfat': 1,\n",
       " 'fat</s>': 1,\n",
       " '<s>Julia': 2,\n",
       " 'Juliais': 2,\n",
       " 'iswhite': 1,\n",
       " 'white</s>': 1,\n",
       " 'isworking': 1,\n",
       " 'working</s>': 1,\n",
       " 'Rogersleeps': 1,\n",
       " 'sleepslate': 1,\n",
       " 'late</s>': 1,\n",
       " 'ishappy': 1,\n",
       " 'happy</s>': 1,\n",
       " '<s>NEC': 1,\n",
       " 'NECis': 1,\n",
       " 'acompany': 3,\n",
       " 'company</s>': 3,\n",
       " '<s>Huawei': 1,\n",
       " 'Huaweiis': 1,\n",
       " '<s>Nokia': 1,\n",
       " 'Nokiais': 1,\n",
       " 'awoman': 2,\n",
       " 'woman</s>': 2,\n",
       " 'isblack': 1,\n",
       " 'black</s>': 1}"
      ]
     },
     "execution_count": 29,
     "metadata": {},
     "output_type": "execute_result"
    }
   ],
   "source": [
    "e"
   ]
  },
  {
   "cell_type": "code",
   "execution_count": 41,
   "id": "a5a172d7",
   "metadata": {},
   "outputs": [
    {
     "data": {
      "text/plain": [
       "0.03296703296703297"
      ]
     },
     "execution_count": 41,
     "metadata": {},
     "output_type": "execute_result"
    }
   ],
   "source": [
    "e[\"Rogeris\"]/sum(e.values())"
   ]
  },
  {
   "cell_type": "code",
   "execution_count": null,
   "id": "dbfddbe2",
   "metadata": {},
   "outputs": [],
   "source": []
  }
 ],
 "metadata": {
  "kernelspec": {
   "display_name": "Python 3 (ipykernel)",
   "language": "python",
   "name": "python3"
  },
  "language_info": {
   "codemirror_mode": {
    "name": "ipython",
    "version": 3
   },
   "file_extension": ".py",
   "mimetype": "text/x-python",
   "name": "python",
   "nbconvert_exporter": "python",
   "pygments_lexer": "ipython3",
   "version": "3.8.10"
  }
 },
 "nbformat": 4,
 "nbformat_minor": 5
}
